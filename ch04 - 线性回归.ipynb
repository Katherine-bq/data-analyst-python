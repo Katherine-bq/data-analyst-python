{
 "cells": [
  {
   "cell_type": "code",
   "execution_count": 16,
   "metadata": {},
   "outputs": [],
   "source": [
    "import pandas as pd\n",
    "import numpy as np\n",
    "import matplotlib.pyplot as plt\n",
    "import seaborn as sns\n",
    "import random\n",
    "%matplotlib inline\n",
    "#sns.set()"
   ]
  },
  {
   "cell_type": "code",
   "execution_count": 17,
   "metadata": {},
   "outputs": [
    {
     "data": {
      "text/plain": [
       "Text(0.5,1,'scatter image')"
      ]
     },
     "execution_count": 17,
     "metadata": {},
     "output_type": "execute_result"
    },
    {
     "data": {
      "image/png": "[encoded data removed]",
      "text/plain": [
       "<Figure size 864x216 with 1 Axes>"
      ]
     },
     "metadata": {
      "needs_background": "light"
     },
     "output_type": "display_data"
    }
   ],
   "source": [
    "rng = np.random.RandomState(2)\n",
    "\n",
    "xtrain = 10 * rng.rand(30)\n",
    "ytrain = 8 + 4*xtrain + rng.rand(30)\n",
    "\n",
    "fig = plt.figure(figsize=(12,3))\n",
    "ax1 = fig.add_subplot(1,2,1)\n",
    "plt.scatter(xtrain,ytrain,marker= '.' , color='k')\n",
    "plt.grid()\n",
    "plt.title('scatter image')"
   ]
  },
  {
   "cell_type": "code",
   "execution_count": 22,
   "metadata": {},
   "outputs": [
    {
     "data": {
      "text/plain": [
       "LinearRegression(copy_X=True, fit_intercept=True, n_jobs=1, normalize=False)"
      ]
     },
     "execution_count": 22,
     "metadata": {},
     "output_type": "execute_result"
    }
   ],
   "source": [
    "from sklearn.linear_model import LinearRegression\n",
    "\n",
    "model = LinearRegression()\n",
    "\n",
    "model.fit(xtrain[:,np.newaxis],ytrain)\n",
    "\n"
   ]
  },
  {
   "cell_type": "markdown",
   "metadata": {},
   "source": [
    "如何评估\n",
    "- 和方差、误差平方和（SSE）：计算的是拟合数据和原始数据对应点的误差的平方和；SSE越接近于0，说明拟合效果越好，数据预测也越成功；\n",
    "- 均方差、方差（MSE）：计算的是拟合数据和原始数据对应点的误差的平方和的均值，即为SSE/n，和SSE无较大区别\n",
    "- 均方根、标准差（RMSE）：也叫回归系统的拟合标准差，是MSE的平方根\n",
    "- SST：原始数据和均值之差的平方和；\n",
    "- SSR：即预测数据和原始数据均值之差的平方和\n",
    "- 确定系数（R-square）：R=SSR/SST=1-SSE/SST,越接近于1，预测效果越好"
   ]
  },
  {
   "cell_type": "code",
   "execution_count": 28,
   "metadata": {},
   "outputs": [
    {
     "name": "stdout",
     "output_type": "stream",
     "text": [
      "7.83643363609652\n",
      "2.799363076861685\n",
      "2.5775283703201053\n",
      "2576.8282182057214\n",
      "0.0010002717108224123\n"
     ]
    },
    {
     "data": {
      "text/plain": [
       "0.001000271710822398"
      ]
     },
     "execution_count": 28,
     "metadata": {},
     "output_type": "execute_result"
    }
   ],
   "source": [
    "from sklearn import metrics\n",
    "\n",
    "rng = np.random.RandomState(1)\n",
    "\n",
    "xtrain = 10 * rng.rand(30)\n",
    "y = 8 + xtrain * 4 +rng.rand(30)*3\n",
    "\n",
    "model = LinearRegression()\n",
    "model.fit(xtrain[:,np.newaxis],ytrain)\n",
    "\n",
    "ytest = model.predict(xtrain[:,np.newaxis])\n",
    "mse = metrics.mean_absolute_error(ytrain,ytest)\n",
    "rmse = np.sqrt(mse)\n",
    "\n",
    "print(mse)\n",
    "print(rmse)\n",
    "\n",
    "ssr =( (ytest - ytrain.mean()) ** 2).sum()\n",
    "sst =(( ytrain - ytrain.mean()) ** 2).sum()\n",
    "\n",
    "r = ssr/sst\n",
    "\n",
    "\n",
    "print(ssr)\n",
    "print(sst)\n",
    "print(r)\n",
    "model.score(xtrain[:,np.newaxis],ytrain)"
   ]
  },
  {
   "cell_type": "code",
   "execution_count": null,
   "metadata": {},
   "outputs": [],
   "source": []
  },
  {
   "cell_type": "code",
   "execution_count": null,
   "metadata": {},
   "outputs": [],
   "source": []
  },
  {
   "cell_type": "code",
   "execution_count": null,
   "metadata": {},
   "outputs": [],
   "source": []
  },
  {
   "cell_type": "code",
   "execution_count": null,
   "metadata": {},
   "outputs": [],
   "source": []
  },
  {
   "cell_type": "code",
   "execution_count": null,
   "metadata": {},
   "outputs": [],
   "source": []
  },
  {
   "cell_type": "code",
   "execution_count": null,
   "metadata": {},
   "outputs": [],
   "source": []
  },
  {
   "cell_type": "code",
   "execution_count": null,
   "metadata": {},
   "outputs": [],
   "source": []
  }
 ],
 "metadata": {
  "kernelspec": {
   "display_name": "Python 3",
   "language": "python",
   "name": "python3"
  },
  "language_info": {
   "codemirror_mode": {
    "name": "ipython",
    "version": 3
   },
   "file_extension": ".py",
   "mimetype": "text/x-python",
   "name": "python",
   "nbconvert_exporter": "python",
   "pygments_lexer": "ipython3",
   "version": "3.7.2"
  }
 },
 "nbformat": 4,
 "nbformat_minor": 2
}
