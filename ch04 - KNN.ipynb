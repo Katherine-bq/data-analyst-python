{
 "cells": [
  {
   "cell_type": "code",
   "execution_count": 1,
   "metadata": {},
   "outputs": [],
   "source": [
    "import pandas as pd\n",
    "import numpy as np\n",
    "import matplotlib.pyplot as plt\n",
    "import seaborn as sns\n",
    "import random\n",
    "%matplotlib inline\n",
    "sns.set()"
   ]
  },
  {
   "cell_type": "markdown",
   "metadata": {},
   "source": [
    "#### 最邻近分类KNN\n",
    "逻辑：在距离空间里，如果一个样本的最接近的k个邻居里，绝大多数属于某个类别，则该样本也属于这个类别"
   ]
  },
  {
   "cell_type": "code",
   "execution_count": 20,
   "metadata": {},
   "outputs": [
    {
     "name": "stdout",
     "output_type": "stream",
     "text": [
      "      name  fight  kiss     type\n",
      "0  北京遇上西雅图      3   104  Romance\n",
      "1      喜欢你      2   100  Romance\n",
      "2    疯狂动物城      1    81  Romance\n",
      "3      战狼2    101    10   action\n",
      "4       力王     99     5   action\n",
      "5      敢死队     95     2   action\n",
      "____________\n",
      "预言电影类型为: ['Romance']\n"
     ]
    },
    {
     "data": {
      "text/plain": [
       "Text(18,90,'your name')"
      ]
     },
     "execution_count": 20,
     "metadata": {},
     "output_type": "execute_result"
    },
    {
     "data": {
      "image/png": "[encoded data removed]",
      "text/plain": [
       "<Figure size 432x288 with 1 Axes>"
      ]
     },
     "metadata": {
      "needs_background": "light"
     },
     "output_type": "display_data"
    }
   ],
   "source": [
    "from sklearn import neighbors\n",
    "import warnings\n",
    "warnings.filterwarnings('ignore')\n",
    "\n",
    "data = pd.DataFrame({'name':['北京遇上西雅图','喜欢你','疯狂动物城','战狼2','力王','敢死队'],\n",
    "                             'fight':[3,2,1,101,99,95],\n",
    "                             'kiss':[104,100,81,10,5,2],\n",
    "                             'type':['Romance','Romance','Romance','action','action','action']\n",
    "    \n",
    "})\n",
    "\n",
    "print(data)\n",
    "print('____________')\n",
    "\n",
    "knn = neighbors.KNeighborsClassifier()\n",
    "knn.fit(data[['fight','kiss']] , data['type'])\n",
    "\n",
    "print('预言电影类型为:',knn.predict([[18,90]]))\n",
    "\n",
    "plt.scatter(data[data['type']=='Romance']['fight'],data[data['type']=='Romance']['kiss'],color='r',marker='o',label='Romance')\n",
    "plt.scatter(data[data['type']=='action']['fight'],data[data['type']=='action']['kiss'],color='g',marker='o',label='action')\n",
    "plt.grid()\n",
    "plt.legend()\n",
    "plt.text(18,90,'your name')"
   ]
  },
  {
   "cell_type": "code",
   "execution_count": 25,
   "metadata": {},
   "outputs": [
    {
     "data": {
      "text/html": [
       "<div>\n",
       "<style scoped>\n",
       "    .dataframe tbody tr th:only-of-type {\n",
       "        vertical-align: middle;\n",
       "    }\n",
       "\n",
       "    .dataframe tbody tr th {\n",
       "        vertical-align: top;\n",
       "    }\n",
       "\n",
       "    .dataframe thead th {\n",
       "        text-align: right;\n",
       "    }\n",
       "</style>\n",
       "<table border=\"1\" class=\"dataframe\">\n",
       "  <thead>\n",
       "    <tr style=\"text-align: right;\">\n",
       "      <th></th>\n",
       "      <th>fight</th>\n",
       "      <th>kiss</th>\n",
       "      <th>type</th>\n",
       "    </tr>\n",
       "  </thead>\n",
       "  <tbody>\n",
       "    <tr>\n",
       "      <th>0</th>\n",
       "      <td>3.213832</td>\n",
       "      <td>20.948604</td>\n",
       "      <td>Romance</td>\n",
       "    </tr>\n",
       "    <tr>\n",
       "      <th>1</th>\n",
       "      <td>7.046744</td>\n",
       "      <td>47.932585</td>\n",
       "      <td>Romance</td>\n",
       "    </tr>\n",
       "    <tr>\n",
       "      <th>2</th>\n",
       "      <td>47.848839</td>\n",
       "      <td>16.026019</td>\n",
       "      <td>action</td>\n",
       "    </tr>\n",
       "    <tr>\n",
       "      <th>3</th>\n",
       "      <td>29.857859</td>\n",
       "      <td>29.178166</td>\n",
       "      <td>action</td>\n",
       "    </tr>\n",
       "    <tr>\n",
       "      <th>4</th>\n",
       "      <td>33.847447</td>\n",
       "      <td>2.737369</td>\n",
       "      <td>action</td>\n",
       "    </tr>\n",
       "  </tbody>\n",
       "</table>\n",
       "</div>"
      ],
      "text/plain": [
       "       fight       kiss     type\n",
       "0   3.213832  20.948604  Romance\n",
       "1   7.046744  47.932585  Romance\n",
       "2  47.848839  16.026019   action\n",
       "3  29.857859  29.178166   action\n",
       "4  33.847447   2.737369   action"
      ]
     },
     "execution_count": 25,
     "metadata": {},
     "output_type": "execute_result"
    },
    {
     "data": {
      "image/png": "[encoded data removed]",
      "text/plain": [
       "<Figure size 432x288 with 1 Axes>"
      ]
     },
     "metadata": {
      "needs_background": "light"
     },
     "output_type": "display_data"
    }
   ],
   "source": [
    "data2 = pd.DataFrame(np.random.rand(100,2)*50,columns=['fight','kiss'])\n",
    "data2['type'] = knn.predict(data2)\n",
    "plt.scatter(data[data['type']=='Romance']['fight'],data[data['type']=='Romance']['kiss'],color='r',marker='o',label='Romance')\n",
    "plt.scatter(data[data['type']=='action']['fight'],data[data['type']=='action']['kiss'],color='g',marker='o',label='action')\n",
    "plt.grid()\n",
    "plt.legend()\n",
    "plt.scatter(data2[data2['type']=='Romance']['fight'],data2[data2['type']=='Romance']['kiss'],color='r',marker='x',label='Romance')\n",
    "plt.scatter(data2[data2['type']=='action']['fight'],data2[data2['type']=='action']['kiss'],color='g',marker='x',label='action')\n",
    "data2.head()"
   ]
  },
  {
   "cell_type": "code",
   "execution_count": null,
   "metadata": {},
   "outputs": [],
   "source": []
  },
  {
   "cell_type": "code",
   "execution_count": null,
   "metadata": {},
   "outputs": [],
   "source": []
  },
  {
   "cell_type": "code",
   "execution_count": null,
   "metadata": {},
   "outputs": [],
   "source": []
  },
  {
   "cell_type": "code",
   "execution_count": null,
   "metadata": {},
   "outputs": [],
   "source": []
  },
  {
   "cell_type": "code",
   "execution_count": null,
   "metadata": {},
   "outputs": [],
   "source": []
  },
  {
   "cell_type": "code",
   "execution_count": null,
   "metadata": {},
   "outputs": [],
   "source": []
  },
  {
   "cell_type": "code",
   "execution_count": null,
   "metadata": {},
   "outputs": [],
   "source": []
  },
  {
   "cell_type": "code",
   "execution_count": null,
   "metadata": {},
   "outputs": [],
   "source": []
  },
  {
   "cell_type": "code",
   "execution_count": null,
   "metadata": {},
   "outputs": [],
   "source": []
  }
 ],
 "metadata": {
  "kernelspec": {
   "display_name": "Python 3",
   "language": "python",
   "name": "python3"
  },
  "language_info": {
   "codemirror_mode": {
    "name": "ipython",
    "version": 3
   },
   "file_extension": ".py",
   "mimetype": "text/x-python",
   "name": "python",
   "nbconvert_exporter": "python",
   "pygments_lexer": "ipython3",
   "version": "3.7.2"
  }
 },
 "nbformat": 4,
 "nbformat_minor": 2
}
